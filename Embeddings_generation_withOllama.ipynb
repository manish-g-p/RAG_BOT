{
 "cells": [
  {
   "cell_type": "code",
   "execution_count": 4,
   "id": "38bd9435",
   "metadata": {},
   "outputs": [],
   "source": [
    "from langchain_ollama import OllamaEmbeddings\n",
    "\n",
    "import faiss\n",
    "from langchain_community.vectorstores import FAISS \n",
    "from langchain_community.docstore.in_memory import InMemoryDocstore"
   ]
  },
  {
   "cell_type": "code",
   "execution_count": 5,
   "id": "d086a365",
   "metadata": {},
   "outputs": [],
   "source": [
    "embeddings = OllamaEmbeddings(model='nomic-embed-text', base_url='http://localhost:11434')"
   ]
  },
  {
   "cell_type": "code",
   "execution_count": 6,
   "id": "b4934e78",
   "metadata": {},
   "outputs": [],
   "source": [
    "db_name = \"health_supplements\"\n",
    "vectorstore = FAISS.load_local(db_name,embeddings,allow_dangerous_deserialization=True)"
   ]
  },
  {
   "cell_type": "code",
   "execution_count": 7,
   "id": "a14c138b",
   "metadata": {},
   "outputs": [],
   "source": [
    "## HOW RETRIEVAL WORKS\n",
    "question = \"What are the benefits of taking vitamin D3 supplements?\"\n",
    "docs = vectorstore.similarity_search(query=question, k=3)"
   ]
  },
  {
   "cell_type": "code",
   "execution_count": 8,
   "id": "f1942064",
   "metadata": {},
   "outputs": [
    {
     "data": {
      "text/plain": [
       "[Document(id='29eec152-9597-4a61-8ba3-7bc146f7eabf', metadata={'producer': 'Skia/PDF m135 Google Docs Renderer', 'creator': '', 'creationdate': '', 'source': 'rag-dataset\\\\regulatory_human_body-generic_manual.pdf', 'file_path': 'rag-dataset\\\\regulatory_human_body-generic_manual.pdf', 'total_pages': 17, 'format': 'PDF 1.4', 'title': 'manual_regulatory_document', 'author': '', 'subject': '', 'keywords': '', 'moddate': '', 'trapped': '', 'modDate': '', 'creationDate': '', 'page': 4}, page_content='The kidneys also: \\n●\\u200b Control the acid-base balance (pH balance) of your blood. \\n●\\u200b Make sugar (glucose) if your blood doesn’t have enough sugar. \\n●\\u200b Make a protein called renin that increases blood pressure. \\n●\\u200b Produce the hormones calcitriol and erythropoietin. Calcitriol is a form of vitamin \\nD that helps your body absorb calcium. Erythropoietin helps your body make red \\nblood cells. \\nAn adrenal gland sits on top of each kidney. It produces hormones, including cortisol, which \\nhelps your body respond to stress. \\nCortisol also plays a role in: \\n●\\u200b Controlling metabolism \\n●\\u200b Reducing inflammation \\n●\\u200b Regulating blood pressure \\n●\\u200b Increasing blood sugar levels \\nHow do my kidneys filter blood? \\nEach kidney contains more than a million filtering units called nephrons. Each nephron consists \\nof: \\n●\\u200b Glomeruli. Glomeruli are groups of tiny blood vessels that perform the first stage \\nof filtering your blood. They then pass filtered substances to the renal tubules.'),\n",
       " Document(id='624f4691-2aa0-45bc-9280-a54ce57125af', metadata={'producer': 'Skia/PDF m135 Google Docs Renderer', 'creator': '', 'creationdate': '', 'source': 'rag-dataset\\\\regulatory_human_body-generic_manual.pdf', 'file_path': 'rag-dataset\\\\regulatory_human_body-generic_manual.pdf', 'total_pages': 17, 'format': 'PDF 1.4', 'title': 'manual_regulatory_document', 'author': '', 'subject': '', 'keywords': '', 'moddate': '', 'trapped': '', 'modDate': '', 'creationDate': '', 'page': 12}, page_content='The renal capsule consists of three layers of connective tissue or fat that cover your \\nkidneys. It protects your kidneys from injury, increases their stability and connects your \\nkidneys to surrounding tissues. \\nRenal artery \\nThe renal artery is a large blood vessel that controls blood flow into your kidneys. For \\nmost people at rest, the renal kidneys pump a little over 5 cups (1.2 liters) of blood to \\nyour kidneys each minute. \\nRenal cortex'),\n",
       " Document(id='f191130c-7748-44f6-bf61-5d1459bd0f16', metadata={'producer': 'Skia/PDF m135 Google Docs Renderer', 'creator': '', 'creationdate': '', 'source': 'rag-dataset\\\\regulatory_human_body-generic_manual.pdf', 'file_path': 'rag-dataset\\\\regulatory_human_body-generic_manual.pdf', 'total_pages': 17, 'format': 'PDF 1.4', 'title': 'manual_regulatory_document', 'author': '', 'subject': '', 'keywords': '', 'moddate': '', 'trapped': '', 'modDate': '', 'creationDate': '', 'page': 13}, page_content='Care \\nHow can I keep my stomach healthy? \\nYou can make lifestyle changes to keep your stomach and digestive system healthy. \\nYou may: \\n●\\u200b Drink alcohol only in moderation. \\n●\\u200b Drink at least 50 ounces of water daily, depending on your activity level and size. \\n●\\u200b Eat 25 to 35 grams of fiber daily, depending on your age and sex. \\n●\\u200b Exercise regularly. \\n●\\u200b Limit your intake of processed foods. \\n●\\u200b Manage stress with healthy coping strategies, such as meditation. \\n●\\u200b Quit smoking or using tobacco products. \\nAdditional Common Questions \\nWhat should I ask my doctor about my stomach? \\nIf you have chronic stomach symptoms, you may speak with a gastroenterologist. \\nGastroenterologists are doctors who specialize in treating the digestive system. You \\nmay ask: \\n●\\u200b What is the most likely cause of gastrointestinal symptoms? \\n●\\u200b What tests will you use to diagnose a stomach condition? \\n●\\u200b Are there any over-the-counter medications that can relieve symptoms? \\n●\\u200b Should I make changes to my diet?')]"
      ]
     },
     "execution_count": 8,
     "metadata": {},
     "output_type": "execute_result"
    }
   ],
   "source": [
    "retriever = vectorstore.as_retriever(search_type = 'similarity', \n",
    "                                      search_kwargs = {'k': 3})\n",
    "\n",
    "retriever.invoke(question)"
   ]
  },
  {
   "cell_type": "code",
   "execution_count": null,
   "id": "c8db66fc",
   "metadata": {},
   "outputs": [],
   "source": []
  },
  {
   "cell_type": "code",
   "execution_count": null,
   "id": "3d4a6156",
   "metadata": {},
   "outputs": [],
   "source": []
  }
 ],
 "metadata": {
  "kernelspec": {
   "display_name": ".venv",
   "language": "python",
   "name": "python3"
  },
  "language_info": {
   "codemirror_mode": {
    "name": "ipython",
    "version": 3
   },
   "file_extension": ".py",
   "mimetype": "text/x-python",
   "name": "python",
   "nbconvert_exporter": "python",
   "pygments_lexer": "ipython3",
   "version": "3.9.4"
  }
 },
 "nbformat": 4,
 "nbformat_minor": 5
}
