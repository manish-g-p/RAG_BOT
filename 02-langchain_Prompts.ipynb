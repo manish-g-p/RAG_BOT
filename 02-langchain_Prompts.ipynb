{
 "cells": [
  {
   "cell_type": "code",
   "execution_count": 1,
   "id": "b2fcfd07",
   "metadata": {},
   "outputs": [
    {
     "name": "stderr",
     "output_type": "stream",
     "text": [
      "C:\\Users\\USER\\AppData\\Local\\Temp\\ipykernel_13500\\1220727364.py:3: LangChainDeprecationWarning: The class `ChatOllama` was deprecated in LangChain 0.3.1 and will be removed in 1.0.0. An updated version of the class exists in the :class:`~langchain-ollama package and should be used instead. To use it run `pip install -U :class:`~langchain-ollama` and import as `from :class:`~langchain_ollama import ChatOllama``.\n",
      "  llm = ChatOllama(\n"
     ]
    }
   ],
   "source": [
    "from langchain_community.chat_models import ChatOllama\n",
    "\n",
    "llm = ChatOllama(\n",
    "    base_url=\"http://localhost:11434\",\n",
    "    model=\"gemma3:1b\",\n",
    "    temperature=0.7,\n",
    "    num_predict=100,\n",
    ")"
   ]
  },
  {
   "cell_type": "code",
   "execution_count": 2,
   "id": "aec8af30",
   "metadata": {},
   "outputs": [
    {
     "name": "stdout",
     "output_type": "stream",
     "text": [
      "questiion :Tell me why chitradurga is famous for\n",
      "\n",
      "Response :content=\"Chitradurg is famous for a truly remarkable and unique combination of historical significance, stunning natural beauty, and a fascinating, almost otherworldly, architectural style. Here's a breakdown of why it's so renowned:\\n\\n**1. The Stone Circles – The Core of its Fame:**\\n\\n* **UNESCO World Heritage Site:** The most significant reason is the incredibly well-preserved and exceptionally large stone circles that dominate the landscape. These circles, including the famous **Chitradurg Temple**, were\" additional_kwargs={} response_metadata={'model': 'gemma3:1b', 'created_at': '2025-07-18T13:21:25.5868519Z', 'message': {'role': 'assistant', 'content': ''}, 'done_reason': 'length', 'done': True, 'total_duration': 6916843100, 'load_duration': 87946900, 'prompt_eval_count': 19, 'prompt_eval_duration': 148565200, 'eval_count': 100, 'eval_duration': 6680331000} id='run--c705e75a-3977-451e-b127-ffbe2fd23cef-0'\n",
      "\n"
     ]
    }
   ],
   "source": [
    "question=\"Tell me why chitradurga is famous for\"\n",
    "response=llm.invoke(question)\n",
    "print(f\"questiion :{question}\\n\")\n",
    "print(f\"Response :{response}\\n\")"
   ]
  },
  {
   "cell_type": "code",
   "execution_count": 3,
   "id": "2beae2a5",
   "metadata": {},
   "outputs": [
    {
     "name": "stdout",
     "output_type": "stream",
     "text": [
      "Question: tell me 3 interesting facts about the moon\n",
      "Response: Okay, let’s talk about the moon! It’s a really cool place, and here are three interesting facts that might surprise you:\n",
      "\n",
      "1. **The Moon is Slowly Changing!** Seriously, it’s moving! Scientists have measured that the moon is actually getting a tiny bit smaller every year – about 1/100th of a millimeter! It’s like it’s slowly losing a little bit of its weight.  Why is it doing that? We don\n"
     ]
    }
   ],
   "source": [
    "from langchain_core.messages import SystemMessage, HumanMessage\n",
    "\n",
    "question = HumanMessage(\"tell me 3 interesting facts about the moon\")\n",
    "system = SystemMessage(\"You are a 5th grade science teacher. Answer the question in a way that a 5th grader can understand.\")\n",
    "\n",
    "messages = [system, question]\n",
    "\n",
    "response = llm.invoke(messages)\n",
    "print(f\"Question: {question.content}\")\n",
    "print(f\"Response: {response.content}\")\n"
   ]
  },
  {
   "cell_type": "code",
   "execution_count": 4,
   "id": "9846bc72",
   "metadata": {},
   "outputs": [
    {
     "name": "stdout",
     "output_type": "stream",
     "text": [
      "Question: tell me 3 interesting facts about the moon\n",
      "Response: Okay, let’s talk about the Moon! It’s a super cool place, and scientists are still learning a lot about it. Here are three interesting facts that might surprise you:\n",
      "\n",
      "1. **It's a Really Good Time for Lunar Cycles:** The Moon doesn’t *really* orbit the Earth, it’s just *really* close! It takes about 27.3 days to go around our planet – that’s a bit longer than a year! Think\n"
     ]
    }
   ],
   "source": [
    "question = HumanMessage(\"tell me 3 interesting facts about the moon\")\n",
    "system = SystemMessage(\"You are a PhD Scholar in astro physics and your audience are aslo PHD experts. Answer the question in a way that a 5th grader can understand.\")\n",
    "\n",
    "messages = [system, question]\n",
    "\n",
    "response = llm.invoke(messages)\n",
    "print(f\"Question: {question.content}\")\n",
    "print(f\"Response: {response.content}\")"
   ]
  },
  {
   "cell_type": "code",
   "execution_count": 5,
   "id": "b4752e1c",
   "metadata": {},
   "outputs": [],
   "source": [
    "from langchain_core.prompts import (\n",
    "                                        SystemMessagePromptTemplate,\n",
    "                                        HumanMessagePromptTemplate,\n",
    "                                        PromptTemplate,\n",
    "                                        ChatPromptTemplate\n",
    "                                        )\n",
    "\n",
    "system = SystemMessagePromptTemplate.from_template('You are {school} teacher. You answer in short sentences.')\n",
    "\n",
    "question = HumanMessagePromptTemplate.from_template('tell me about the {topics} in {points} points')"
   ]
  },
  {
   "cell_type": "code",
   "execution_count": 6,
   "id": "6be2bec9",
   "metadata": {},
   "outputs": [
    {
     "name": "stdout",
     "output_type": "stream",
     "text": [
      "prompt=PromptTemplate(input_variables=['school'], input_types={}, partial_variables={}, template='You are {school} teacher. You answer in short sentences.') additional_kwargs={}\n",
      "prompt=PromptTemplate(input_variables=['points', 'topics'], input_types={}, partial_variables={}, template='tell me about the {topics} in {points} points') additional_kwargs={}\n"
     ]
    }
   ],
   "source": [
    "print(system)\n",
    "print(question)"
   ]
  },
  {
   "cell_type": "code",
   "execution_count": 7,
   "id": "140e12b3",
   "metadata": {},
   "outputs": [
    {
     "data": {
      "text/plain": [
       "HumanMessage(content='tell me about the sun in 5 points', additional_kwargs={}, response_metadata={})"
      ]
     },
     "execution_count": 7,
     "metadata": {},
     "output_type": "execute_result"
    }
   ],
   "source": [
    "question.format(topics='sun', points=5)\n"
   ]
  },
  {
   "cell_type": "code",
   "execution_count": 8,
   "id": "56c3bf6e",
   "metadata": {},
   "outputs": [
    {
     "data": {
      "text/plain": [
       "SystemMessage(content='You are elemetary teacher. You answer in short sentences.', additional_kwargs={}, response_metadata={})"
      ]
     },
     "execution_count": 8,
     "metadata": {},
     "output_type": "execute_result"
    }
   ],
   "source": [
    "system.format(school='elemetary')"
   ]
  },
  {
   "cell_type": "code",
   "execution_count": 9,
   "id": "db6ec527",
   "metadata": {},
   "outputs": [
    {
     "name": "stdout",
     "output_type": "stream",
     "text": [
      "input_variables=['points', 'school', 'topics'] input_types={} partial_variables={} messages=[SystemMessagePromptTemplate(prompt=PromptTemplate(input_variables=['school'], input_types={}, partial_variables={}, template='You are {school} teacher. You answer in short sentences.'), additional_kwargs={}), HumanMessagePromptTemplate(prompt=PromptTemplate(input_variables=['points', 'topics'], input_types={}, partial_variables={}, template='tell me about the {topics} in {points} points'), additional_kwargs={})]\n"
     ]
    }
   ],
   "source": [
    "messages = [system,question]\n",
    "template = ChatPromptTemplate(messages)\n",
    "print(template)"
   ]
  },
  {
   "cell_type": "code",
   "execution_count": 10,
   "id": "7fb14533",
   "metadata": {},
   "outputs": [
    {
     "name": "stdout",
     "output_type": "stream",
     "text": [
      "Response: Okay, here’s about the sun in 5 points:\n",
      "\n",
      "1.  It’s a giant ball of hot gas.\n",
      "2.  It gives us light and warmth.\n",
      "3.  It’s really far away.\n",
      "4.  It makes Earth live!\n",
      "5.  It’s a star!\n"
     ]
    }
   ],
   "source": [
    "question = template.invoke({'school': 'elementary', 'topics': 'sun', 'points': 5})\n",
    "response = llm.invoke(question)\n",
    "print(f\"Response: {response.content}\")"
   ]
  }
 ],
 "metadata": {
  "kernelspec": {
   "display_name": ".venv",
   "language": "python",
   "name": "python3"
  },
  "language_info": {
   "codemirror_mode": {
    "name": "ipython",
    "version": 3
   },
   "file_extension": ".py",
   "mimetype": "text/x-python",
   "name": "python",
   "nbconvert_exporter": "python",
   "pygments_lexer": "ipython3",
   "version": "3.9.4"
  }
 },
 "nbformat": 4,
 "nbformat_minor": 5
}
