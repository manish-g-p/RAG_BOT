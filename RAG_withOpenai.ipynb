{
 "cells": [
  {
   "cell_type": "code",
   "execution_count": 10,
   "id": "0d9d4339",
   "metadata": {},
   "outputs": [
    {
     "name": "stdout",
     "output_type": "stream",
     "text": [
      "Sentence embeddings:\n",
      "[[ 2.25025900e-02 -7.82918185e-02 -2.30307579e-02 -5.10000717e-03\n",
      "  -8.03404152e-02  3.91321331e-02  1.13428524e-02  3.46482103e-03\n",
      "  -2.94573922e-02 -1.88930500e-02  9.47433710e-02  2.92748269e-02\n",
      "   3.94859463e-02 -4.63165864e-02  2.54245866e-02 -3.22000235e-02\n",
      "   6.21928833e-02  1.55591909e-02 -4.67795469e-02  5.03901243e-02\n",
      "   1.46113373e-02  2.31413450e-02  1.22066466e-02  2.50696056e-02\n",
      "   2.93655344e-03 -4.19821963e-02 -4.01032111e-03 -2.27843802e-02\n",
      "  -7.68595422e-03 -3.31091024e-02  3.22118886e-02 -2.09992398e-02\n",
      "   1.16730640e-02 -9.85074118e-02  1.77932623e-06 -2.29931585e-02\n",
      "  -1.31140519e-02 -2.80222502e-02 -6.99970201e-02  2.59314068e-02\n",
      "  -2.89501827e-02  8.76335651e-02 -1.20919226e-02  3.98605093e-02\n",
      "  -3.31381485e-02  3.59107666e-02  3.46099064e-02  6.49783835e-02\n",
      "  -3.00817564e-02  6.98188469e-02 -3.99515918e-03 -1.01596548e-03\n",
      "  -3.50185037e-02 -4.36567403e-02  5.08025736e-02  4.68757562e-02\n",
      "   5.39663546e-02 -4.03008573e-02  3.20137292e-03  1.36618717e-02\n",
      "   3.82188410e-02 -3.23840580e-03 -7.84594158e-04 -1.71188358e-02\n",
      "   6.90443534e-03 -1.09237302e-02  8.63305293e-03 -1.82358138e-02\n",
      "   1.87931731e-02  1.54990396e-02  1.02150822e-02 -2.48379400e-03\n",
      "   1.03153093e-02  6.24887012e-02  3.60320718e-03 -6.26629591e-03\n",
      "  -2.03406066e-02 -6.72344677e-03 -3.54771353e-02  3.43538411e-02\n",
      "   6.72281682e-02  9.06873420e-02  1.32440636e-02  2.06592120e-02\n",
      "  -2.78685354e-02  4.29694392e-02 -4.66860011e-02  1.50116347e-02\n",
      "  -6.62284344e-02 -2.27593333e-02 -6.24990463e-02 -2.58454792e-02\n",
      "   7.31275766e-04  1.14653129e-02  5.66383414e-02  2.06244015e-03\n",
      "  -4.09249514e-02 -4.55051698e-02  1.66957844e-02 -8.31556395e-02\n",
      "   2.09065946e-03 -8.70923512e-03  1.07666463e-04  3.37445289e-02\n",
      "   5.60344849e-03 -1.66980792e-02  4.47910242e-02  6.31807558e-03\n",
      "  -6.45904317e-02  5.29103652e-02  1.93019006e-02 -6.20152149e-03\n",
      "  -1.18760034e-01  3.55963111e-02 -2.28864104e-02 -1.51872579e-02\n",
      "  -5.92659507e-03 -1.57147442e-04  1.07070012e-02  3.86081962e-03\n",
      "  -6.87014535e-02 -1.69752892e-02 -2.79729664e-02  2.80481130e-02\n",
      "   2.47793682e-02  1.20279193e-02 -6.86392784e-02  4.92765047e-02\n",
      "   1.87576283e-02 -2.42343452e-02 -2.05291044e-02 -1.07933702e-02\n",
      "   2.46493444e-02 -3.33323367e-02 -3.28398272e-02  2.91977525e-02\n",
      "   4.92033772e-02 -7.13360170e-03 -1.63390171e-02  1.78589637e-03\n",
      "   2.18069591e-02 -8.90231356e-02 -3.37051786e-02  5.77225350e-03\n",
      "  -4.56565283e-02  3.39890383e-02  3.52784656e-02 -3.12627740e-02\n",
      "   8.10834859e-03  2.68615130e-02 -2.23900867e-03  2.81266812e-02\n",
      "  -1.75383482e-02 -1.44589785e-02 -3.33480611e-02 -1.62955001e-02\n",
      "   9.70038399e-02 -8.11070856e-03 -2.46669427e-02 -5.87456971e-02\n",
      "   8.74914287e-04  1.67235229e-02  9.15384386e-03 -1.17984414e-03\n",
      "  -2.93017179e-03  4.22458351e-03 -2.16528587e-02  4.29305360e-02\n",
      "  -5.86095862e-02  3.13418098e-02 -1.29510753e-03 -1.11297816e-02\n",
      "  -2.82019675e-02  8.77324566e-02  2.06880905e-02  1.41399279e-02\n",
      "   1.38229970e-02 -1.94184054e-02 -9.01035368e-02 -3.81476525e-03\n",
      "  -2.91149900e-03  3.09753269e-02 -1.18769296e-02  1.88289620e-02\n",
      "  -4.59066704e-02  4.98209894e-02 -8.39182269e-03 -4.29713279e-02\n",
      "  -3.23598906e-02 -3.83801423e-02 -2.99747903e-02  3.69881615e-02\n",
      "  -4.44593048e-03 -1.94784291e-02 -2.71527637e-02  2.43246648e-02\n",
      "   9.16361460e-04  5.85004725e-02  1.92714129e-02 -2.57291254e-02\n",
      "   4.08677682e-02  4.36859298e-03  5.13520427e-02  1.57080647e-02\n",
      "  -2.46329475e-02 -9.79608763e-03  2.06119334e-03 -4.66644503e-02\n",
      "   3.19584720e-02 -3.73426750e-02  9.35152918e-02  1.85420830e-02\n",
      "  -2.60215066e-02  8.05765670e-03 -6.38396523e-05 -4.74150898e-03\n",
      "   2.17362475e-02 -4.03624065e-02 -3.97234261e-02  6.60505444e-02\n",
      "  -3.20185460e-02 -1.52355963e-02 -1.53095508e-02  5.58151817e-03\n",
      "   3.96784246e-02 -5.98881058e-02 -2.94910427e-02 -1.53479660e-02\n",
      "  -3.32981497e-02 -1.35856336e-02 -2.23695375e-02  1.81128329e-03\n",
      "  -2.53540551e-04  7.30926311e-03 -4.96328063e-02  3.74633595e-02\n",
      "  -4.42486741e-02 -8.77881721e-02 -1.95525885e-02 -7.44620785e-02\n",
      "  -5.28364396e-03 -8.59953184e-03  1.65658165e-02  1.99179910e-02\n",
      "  -9.94189549e-03 -2.85215490e-03  7.21453726e-02 -1.99029613e-02\n",
      "   2.95140408e-02 -5.97201660e-02  5.00880592e-02 -2.54911631e-02\n",
      "   2.33916529e-02 -7.12675462e-03  7.38673005e-03 -7.17939064e-02\n",
      "   9.15074779e-04  2.19873711e-02  4.15911712e-03  1.79544054e-02\n",
      "   6.32213280e-02 -2.47935089e-03 -5.26580727e-03  2.34971419e-02\n",
      "  -2.61954796e-02 -3.71228904e-02  2.15678364e-02 -5.85355647e-02\n",
      "  -1.79577395e-02 -1.20005123e-02  8.96468060e-04 -1.47688873e-02\n",
      "   4.96944897e-02  6.97958143e-03  2.64367852e-02  4.61774170e-02\n",
      "   3.20434384e-02 -3.66006084e-02 -5.08427480e-03  6.88665509e-02\n",
      "   5.68004288e-02 -1.46778198e-02 -4.78474088e-02  1.21871885e-02\n",
      "  -2.50420254e-02  3.12442947e-02 -1.79439913e-02 -3.05826291e-02\n",
      "   1.71711645e-03  7.02126399e-02  5.67383207e-02 -1.79367587e-02\n",
      "   2.44001020e-02 -2.86525693e-02 -1.15867779e-02 -2.70408448e-02\n",
      "   3.95130701e-02  4.29957695e-02  2.90973131e-02  2.80839335e-02\n",
      "  -4.62749340e-02 -4.28289082e-03  1.19902100e-02 -1.20225428e-02\n",
      "  -9.46936663e-03  2.35065501e-02 -3.00626941e-02 -1.69608910e-02\n",
      "  -1.59729132e-03 -1.30610913e-02  5.35884611e-02  2.53782626e-02\n",
      "   2.60250196e-02  6.27413094e-02 -2.26464123e-02  6.58668159e-03\n",
      "  -3.48779410e-02 -8.88992939e-03 -3.32266800e-02 -1.81600153e-02\n",
      "  -6.45450735e-03  1.02021005e-02 -1.25164213e-02  4.20163535e-02\n",
      "   1.12152183e-02 -2.13345159e-02  1.05620921e-02  1.99819952e-02\n",
      "   1.83803439e-02  3.29689821e-03 -8.70435033e-03  1.90762579e-02\n",
      "  -4.41013537e-02  9.57715586e-02  2.73615588e-02  1.76534206e-02\n",
      "  -2.20417194e-02  3.70630883e-02 -6.52677205e-04 -1.44511452e-02\n",
      "   1.09790256e-02 -8.40493757e-03 -3.26202507e-03 -2.20720302e-02\n",
      "  -1.90347340e-02 -1.60557907e-02 -4.08147387e-02  1.11608841e-02\n",
      "  -6.02422878e-02 -6.96680769e-02 -1.73303671e-02  2.87935380e-02\n",
      "  -6.79622591e-02 -3.13759111e-02 -5.51356748e-02 -2.03582719e-02\n",
      "   2.89012846e-02  1.37794269e-02  6.80509210e-03 -2.43215938e-03\n",
      "   7.21530914e-02 -1.17459230e-03 -3.57214957e-02  3.54787372e-02\n",
      "  -1.96372322e-03 -7.76640512e-03  3.01939026e-02  1.85422916e-02\n",
      "  -5.39994985e-02  3.32429782e-02  5.73031278e-03  1.33993374e-02\n",
      "   4.51613776e-03  4.88920249e-02 -3.14347371e-02  3.62168662e-02\n",
      "   3.65448669e-02 -4.79209684e-02 -1.44876475e-02  4.93125580e-02\n",
      "   2.86979731e-02 -5.51462583e-02  2.74743736e-02  1.27804540e-02\n",
      "  -7.04631880e-02  7.69065181e-03 -5.24689676e-03 -5.33922426e-02\n",
      "  -1.70808882e-02  4.77676988e-02  2.38064900e-02 -4.09796983e-02\n",
      "  -1.27406968e-02  4.66342568e-02  5.03478060e-03  6.60555577e-03\n",
      "   2.90571805e-02  4.15974148e-02 -3.82126123e-02 -1.14388615e-02\n",
      "   1.71640813e-02  5.70873544e-03  1.07285744e-02 -1.80593636e-02\n",
      "  -5.06379716e-02  4.54924889e-02  1.40737453e-02  4.25583795e-02\n",
      "  -3.22351120e-02  4.17672098e-02  1.14987213e-02  3.92397260e-03\n",
      "   2.04459298e-02  1.52545581e-02  3.80402133e-02  2.54580639e-02\n",
      "  -4.69271606e-03  1.83214825e-02  2.76015420e-02 -2.89157145e-02\n",
      "  -4.98981848e-02 -1.61939580e-02  9.87023488e-02 -4.26361635e-02\n",
      "  -1.88477878e-02 -1.07012149e-02 -3.21414545e-02  4.15321365e-02\n",
      "  -2.38700043e-02  8.39927979e-03 -1.00903725e-03 -3.11339945e-02\n",
      "  -3.86490077e-02 -3.06742769e-02 -3.88900898e-02 -3.65617685e-02\n",
      "   3.29418830e-03  2.00938396e-02  2.30732393e-02 -4.77465466e-02\n",
      "   8.55974946e-03  2.21940968e-02  1.49231091e-01 -1.91771816e-02\n",
      "   1.43475998e-02  4.39949445e-02 -2.27759359e-03  1.38113077e-03\n",
      "   3.23160291e-02  6.57534748e-02  2.26997063e-02  2.18099654e-02\n",
      "  -3.00688874e-02  1.54187260e-02  6.95953444e-02 -3.88419218e-02\n",
      "  -1.09261833e-01 -7.51071377e-03  1.19599234e-02  1.27545847e-02\n",
      "   1.89589672e-02  4.54232208e-02 -4.60909903e-02 -5.17167291e-03\n",
      "  -1.17528532e-02 -8.67662579e-03 -2.08860394e-02  4.49373759e-02\n",
      "   1.55425919e-02  1.32863866e-02 -3.67461257e-02  1.40869766e-02\n",
      "   2.77768401e-03  2.77877133e-03  2.99189240e-02 -3.01353224e-02\n",
      "  -4.63993177e-02 -5.60870618e-02 -7.94633199e-03  3.58322971e-02\n",
      "  -2.37628482e-02  3.04555725e-02  4.38174792e-03 -1.49129275e-02\n",
      "  -2.00193319e-02  4.84521035e-03 -1.40731968e-03 -3.53151523e-02\n",
      "   5.58818411e-03  7.45554315e-03  1.51482888e-03  4.03529704e-02\n",
      "  -6.45006262e-03 -2.26504123e-03 -3.91197279e-02  1.05103487e-02\n",
      "   1.14452261e-02  2.85172388e-02  2.43227798e-02 -8.16609338e-02\n",
      "  -4.06114310e-02  4.48722169e-02  5.76121558e-04  3.66366953e-02\n",
      "  -5.07902093e-02  3.42644192e-02  2.49840282e-02  1.17401546e-02\n",
      "   1.71504468e-02  2.12810636e-02 -1.83074120e-02 -5.08700535e-02\n",
      "  -1.79200172e-02  2.44995002e-02 -8.84233415e-03  1.70267280e-02\n",
      "  -2.69821822e-03 -7.86308721e-02  5.88882044e-02  2.79406831e-03\n",
      "   1.18669476e-02 -3.29488777e-02  2.49917600e-02 -3.39025818e-02\n",
      "  -7.46753663e-02  2.85461103e-03 -4.59512416e-03  1.36558490e-03\n",
      "  -6.91540167e-02  3.54957883e-03 -1.40170911e-02  6.54005492e-03\n",
      "  -5.49734831e-02  4.28330936e-02 -5.33594117e-02  3.18160839e-03\n",
      "   1.04328595e-01  3.42741497e-02  4.07344326e-02  1.89621691e-02\n",
      "   2.44271625e-02 -1.29663087e-02  6.00199848e-02  3.92833240e-02\n",
      "   7.58032277e-02 -1.51843224e-02 -7.98326079e-03  3.47589701e-02\n",
      "  -1.86614264e-02 -6.96071908e-02 -7.13098124e-02  2.77238674e-02\n",
      "  -3.20368409e-02  3.10048386e-02  1.26685644e-03 -6.69391282e-33\n",
      "  -3.91473882e-02 -3.46212089e-02  2.06935639e-03  6.21102527e-02\n",
      "  -4.16612104e-02 -9.90152266e-03 -1.67432334e-02  7.94494525e-03\n",
      "  -1.07787037e-03  2.85014044e-02 -3.19683589e-02  1.79130177e-03\n",
      "   3.13649736e-02 -1.40697211e-02  1.93633847e-02  7.51153240e-03\n",
      "   3.52904238e-02 -1.16605880e-02 -2.80547282e-03 -1.19964955e-02\n",
      "  -2.97140852e-02 -1.76580176e-02  4.52528037e-02 -1.38787390e-03\n",
      "  -7.87157007e-03 -8.17421265e-03 -5.47760688e-02 -1.12036476e-02\n",
      "  -6.26672655e-02 -2.15537641e-02  5.16278530e-03 -2.60674693e-02\n",
      "  -1.97687391e-02 -2.41159294e-02 -3.39965150e-02  4.55974750e-02\n",
      "  -5.38011733e-03 -5.15832230e-02  2.78135147e-02  3.86535116e-02\n",
      "  -9.17188674e-02 -5.43299057e-02 -2.38129199e-02  8.47342145e-03\n",
      "  -2.56150328e-02 -1.94258839e-02 -5.79074910e-03 -3.53577211e-02\n",
      "   3.68123800e-02 -4.75911237e-02 -3.93512994e-02  1.03637623e-03\n",
      "  -3.56920101e-02  4.05900851e-02 -3.41654778e-03  2.35697329e-02\n",
      "  -1.65533181e-02 -1.51567790e-03 -4.22695279e-02  1.85887367e-02\n",
      "   4.51937653e-02  5.00864610e-02 -3.62452827e-02 -3.38022187e-02\n",
      "  -2.15226412e-02  7.74862757e-03  3.47935501e-03  8.42202047e-04\n",
      "   1.18840653e-02  6.97644576e-02  8.02961830e-03  1.04670919e-01\n",
      "  -4.34277765e-02  1.09933317e-01  2.27688234e-02 -3.14176567e-02\n",
      "  -1.14897788e-02 -3.55345686e-03  2.82175317e-02 -1.62152220e-02\n",
      "   6.32874221e-02  1.12805218e-02 -4.53990698e-02 -4.23893146e-02\n",
      "  -4.77064028e-02 -4.93459553e-02 -3.72876716e-03  3.38707492e-02\n",
      "  -3.09105758e-02  2.06781011e-02  3.08634434e-02  6.29141182e-02\n",
      "   1.70471892e-02 -1.72119848e-02 -3.77116017e-02  3.45212594e-02\n",
      "  -4.09609899e-02  4.88857739e-03 -3.00613269e-02 -8.41372740e-03\n",
      "  -4.09952849e-02 -3.98016460e-02 -5.39269373e-02  1.65643115e-02\n",
      "   5.96865304e-02  3.61520201e-02  4.98929061e-02  1.44997817e-02\n",
      "  -1.09169714e-01 -1.43747879e-02 -1.36371814e-02  1.62526295e-02\n",
      "  -1.17077900e-03 -3.09679229e-02 -2.90012080e-02 -6.66359114e-03\n",
      "   9.04124044e-03  4.31807749e-02 -2.07464434e-02 -5.69087118e-02\n",
      "  -2.79607829e-02  4.16314490e-02 -6.23094328e-02  2.17974540e-02\n",
      "   2.10570707e-03  1.54056828e-02  3.57553512e-02  2.54537333e-02\n",
      "   3.60636897e-02 -7.28387162e-02 -5.19873900e-03 -2.23385147e-03\n",
      "   2.51205506e-07  4.48057428e-03  6.26779795e-02  2.36657243e-02\n",
      "   6.45826906e-02  1.77587625e-02  4.13445160e-02 -3.67186293e-02\n",
      "   5.56979850e-02 -4.12959456e-02  3.65489274e-02  7.52830952e-02\n",
      "  -3.72790508e-02 -2.12006513e-02 -1.76452082e-02 -2.88425982e-02\n",
      "   2.56823581e-02 -4.92919832e-02 -8.79911706e-02 -2.83660833e-02\n",
      "  -2.19023954e-02  3.70794497e-02  4.11574170e-02  7.84277469e-02\n",
      "  -1.48524009e-02  6.14959421e-03 -4.01153527e-02 -2.02855524e-02\n",
      "  -2.90953163e-02  6.01126486e-03  3.68368886e-02  7.31769949e-03\n",
      "  -8.81801732e-03  4.70302720e-03  3.01264878e-02 -3.82542680e-03\n",
      "  -6.81491522e-03  3.72341871e-02  8.78986120e-02 -2.90222513e-03\n",
      "   3.33461948e-02 -3.84542830e-02 -5.78214675e-02 -2.74080895e-02\n",
      "   1.45640150e-02  1.58608612e-02  1.84693728e-02  3.52276079e-02\n",
      "  -5.63630275e-02  2.07085479e-02  3.22306454e-02 -2.99262926e-02\n",
      "   5.92910387e-02 -3.01267114e-03 -2.28289911e-03  2.80255675e-02\n",
      "  -7.59407654e-02  4.06449800e-03  1.21565033e-02  1.28566036e-02\n",
      "  -1.73885946e-03 -2.95145847e-02  3.77574973e-02  1.94635112e-02\n",
      "   4.80339415e-02  1.52997635e-02  5.04778363e-02 -8.81981291e-03\n",
      "   1.64886834e-34  4.77929749e-02 -6.48034504e-03 -3.31387646e-03\n",
      "   1.02901552e-02 -3.30803432e-02 -2.55397614e-02  3.78654525e-02\n",
      "  -1.35550918e-02 -8.27923603e-03  2.65269130e-02 -2.01897812e-03]]\n"
     ]
    }
   ],
   "source": [
    "# HOW EMBEDDINGS LOOK LIKE\n",
    "from sentence_transformers import SentenceTransformer\n",
    "\n",
    "model = SentenceTransformer('sentence-transformers/all-mpnet-base-v2')\n",
    "\n",
    "sentences = [\"This is an example sentence\"]\n",
    "\n",
    "embeddings = model.encode(sentences)\n",
    "print(\"Sentence embeddings:\")\n",
    "print(embeddings)"
   ]
  },
  {
   "cell_type": "code",
   "execution_count": 11,
   "id": "cb6fa638",
   "metadata": {},
   "outputs": [],
   "source": [
    "from PyPDF2 import PdfReader\n",
    "from langchain.embeddings import OpenAIEmbeddings\n",
    "from langchain.text_splitter import CharacterTextSplitter\n",
    "from langchain.vectorstores import FAISS\n",
    "\n",
    "import os\n",
    "from dotenv import load_dotenv\n",
    "load_dotenv()\n",
    "openai_key = os.environ.get(\"OPENAI_KEY\")\n",
    "\n",
    "embeddings = OpenAIEmbeddings(openai_api_key=openai_key)"
   ]
  },
  {
   "cell_type": "code",
   "execution_count": 12,
   "id": "06df46c3",
   "metadata": {},
   "outputs": [],
   "source": [
    "# FUNCTION TO LOAD PDF AND SPLIT INTO PARAGRAPHS\n",
    "def split_paragraphs(rawText):\n",
    "    text_splitter = CharacterTextSplitter(\n",
    "        separator=\"\\n\",\n",
    "        chunk_size=200,\n",
    "        chunk_overlap=20,\n",
    "        length_function=len,\n",
    "        is_separator_regex=False,\n",
    "    )\n",
    "\n",
    "    return  text_splitter.split_text(rawText)\n",
    "\n",
    "def load_pdfs(pdfs):\n",
    "    text_chunks = []\n",
    "\n",
    "    for pdf in pdfs:\n",
    "        reader = PdfReader(pdf)\n",
    "        for page in reader.pages:\n",
    "            raw = page.extract_text()\n",
    "            chunks = split_paragraphs(raw)\n",
    "            text_chunks += chunks\n",
    "    print(\" HERE IS EXAMPLE OF WHAT WE HAVE IN TEXT CHUNKS\")\n",
    "    print(text_chunks[:5])  # Print first 5 chunks for inspection\n",
    "    return text_chunks\n"
   ]
  },
  {
   "cell_type": "code",
   "execution_count": 13,
   "id": "bcfa831b",
   "metadata": {},
   "outputs": [
    {
     "name": "stdout",
     "output_type": "stream",
     "text": [
      " HERE IS EXAMPLE OF WHAT WE HAVE IN TEXT CHUNKS\n",
      "['International  Journal  of \\nEnvironmental Research\\nand Public Health\\nReview\\nDietary Supplements—For Whom? The Current State of\\nKnowledge about the Health Effects of Selected\\nSupplement Use', 'Supplement Use\\nRegina Ewa Wierzejska\\n/gid00030/gid00035/gid00032/gid00030/gid00038/gid00001/gid00033/gid00042/gid00045 /gid00001\\n/gid00048/gid00043/gid00031/gid00028/gid00047/gid00032/gid00046', 'Citation: Wierzejska, R.E. Dietary\\nSupplements—For Whom? The\\nCurrent State of Knowledge about the\\nHealth Effects of Selected Supplement\\nUse. Int. J. Environ. Res. Public Health', '2021 ,18, 8897. https://doi.org/\\n10.3390/ijerph18178897\\nAcademic Editor: Paul B. Tchounwou\\nReceived: 15 July 2021\\nAccepted: 21 August 2021\\nPublished: 24 August 2021', 'Publisher’s Note: MDPI stays neutral\\nwith regard to jurisdictional claims in\\npublished maps and institutional afﬁl-\\niations.\\nCopyright: © 2021 by the author.\\nLicensee MDPI, Basel, Switzerland.']\n"
     ]
    }
   ],
   "source": [
    "list_of_pdfs = [\"1. dietary supplements - for whom.pdf\"]\n",
    "text_chunks = load_pdfs(list_of_pdfs)"
   ]
  },
  {
   "cell_type": "code",
   "execution_count": 14,
   "id": "77b9632d",
   "metadata": {},
   "outputs": [],
   "source": [
    "from sentence_transformers import SentenceTransformer\n",
    "from langchain.embeddings import HuggingFaceEmbeddings\n",
    "\n",
    "embed_model = HuggingFaceEmbeddings(model_name=\"all-MiniLM-L6-v2\")\n",
    "store = FAISS.from_texts(text_chunks, embed_model)\n"
   ]
  },
  {
   "cell_type": "code",
   "execution_count": 15,
   "id": "9c998b32",
   "metadata": {},
   "outputs": [],
   "source": [
    "store.save_local(\"./myVectorStore\")"
   ]
  },
  {
   "cell_type": "code",
   "execution_count": null,
   "id": "e9af2a5c",
   "metadata": {},
   "outputs": [],
   "source": [
    "from langchain_community.chat_models import ChatOpenAI\n",
    "from langchain_community.vectorstores import FAISS\n",
    "from langchain_community.embeddings import OpenAIEmbeddings\n",
    "from langchain.chains import RetrievalQA\n",
    "\n",
    "# Settings contains the env: OPENAI_API_KEY\n",
    "openai_key = os.environ.get(\"OPENAI_KEY\")\n",
    "\n",
    "# Load the saved FAISS store from the disk.\n",
    "store = FAISS.load_local(\"myVectorStore\",  OpenAIEmbeddings(openai_api_key=openai_key), allow_dangerous_deserialization=True)\n",
    "\n",
    "# Create an instance of a ChatGPT turbo model\n",
    "\n",
    "llm = ChatOpenAI(model_name=\"gpt-3.5-turbo-0125\", temperature=0, openai_api_key=openai_key)\n",
    "\n",
    "# Build our Langchain chain instance.\n",
    "chain = RetrievalQA.from_chain_type(\n",
    "   llm=llm,\n",
    "   retriever=store.as_retriever()\n",
    ")\n",
    "\n",
    "# Ask the LLM a question.\n",
    "result = chain({\"query\": \"What is Nepolian pizza ?\"})\n",
    "print(result)"
   ]
  },
  {
   "cell_type": "code",
   "execution_count": null,
   "id": "afb98217",
   "metadata": {},
   "outputs": [],
   "source": []
  },
  {
   "cell_type": "code",
   "execution_count": 5,
   "id": "caf1e9bc",
   "metadata": {},
   "outputs": [
    {
     "name": "stdout",
     "output_type": "stream",
     "text": [
      "Requirement already up-to-date: sentence-transformers in c:\\users\\user\\desktop\\manish\\.venv\\lib\\site-packages (5.0.0)\n",
      "Requirement already satisfied, skipping upgrade: typing_extensions>=4.5.0 in c:\\users\\user\\desktop\\manish\\.venv\\lib\\site-packages (from sentence-transformers) (4.14.1)\n",
      "Requirement already satisfied, skipping upgrade: scikit-learn in c:\\users\\user\\desktop\\manish\\.venv\\lib\\site-packages (from sentence-transformers) (1.6.1)\n",
      "Requirement already satisfied, skipping upgrade: transformers<5.0.0,>=4.41.0 in c:\\users\\user\\desktop\\manish\\.venv\\lib\\site-packages (from sentence-transformers) (4.53.2)\n",
      "Requirement already satisfied, skipping upgrade: torch>=1.11.0 in c:\\users\\user\\desktop\\manish\\.venv\\lib\\site-packages (from sentence-transformers) (2.7.1)\n",
      "Requirement already satisfied, skipping upgrade: huggingface-hub>=0.20.0 in c:\\users\\user\\desktop\\manish\\.venv\\lib\\site-packages (from sentence-transformers) (0.33.4)\n",
      "Requirement already satisfied, skipping upgrade: tqdm in c:\\users\\user\\desktop\\manish\\.venv\\lib\\site-packages (from sentence-transformers) (4.67.1)\n",
      "Requirement already satisfied, skipping upgrade: Pillow in c:\\users\\user\\desktop\\manish\\.venv\\lib\\site-packages (from sentence-transformers) (11.3.0)\n",
      "Requirement already satisfied, skipping upgrade: scipy in c:\\users\\user\\desktop\\manish\\.venv\\lib\\site-packages (from sentence-transformers) (1.13.1)\n",
      "Requirement already satisfied, skipping upgrade: joblib>=1.2.0 in c:\\users\\user\\desktop\\manish\\.venv\\lib\\site-packages (from scikit-learn->sentence-transformers) (1.5.1)\n",
      "Requirement already satisfied, skipping upgrade: threadpoolctl>=3.1.0 in c:\\users\\user\\desktop\\manish\\.venv\\lib\\site-packages (from scikit-learn->sentence-transformers) (3.6.0)\n",
      "Requirement already satisfied, skipping upgrade: numpy>=1.19.5 in c:\\users\\user\\desktop\\manish\\.venv\\lib\\site-packages (from scikit-learn->sentence-transformers) (2.0.2)\n",
      "Requirement already satisfied, skipping upgrade: requests in c:\\users\\user\\desktop\\manish\\.venv\\lib\\site-packages (from transformers<5.0.0,>=4.41.0->sentence-transformers) (2.32.4)\n",
      "Requirement already satisfied, skipping upgrade: pyyaml>=5.1 in c:\\users\\user\\desktop\\manish\\.venv\\lib\\site-packages (from transformers<5.0.0,>=4.41.0->sentence-transformers) (6.0.2)\n",
      "Requirement already satisfied, skipping upgrade: filelock in c:\\users\\user\\desktop\\manish\\.venv\\lib\\site-packages (from transformers<5.0.0,>=4.41.0->sentence-transformers) (3.18.0)\n",
      "Requirement already satisfied, skipping upgrade: tokenizers<0.22,>=0.21 in c:\\users\\user\\desktop\\manish\\.venv\\lib\\site-packages (from transformers<5.0.0,>=4.41.0->sentence-transformers) (0.21.2)\n",
      "Requirement already satisfied, skipping upgrade: regex!=2019.12.17 in c:\\users\\user\\desktop\\manish\\.venv\\lib\\site-packages (from transformers<5.0.0,>=4.41.0->sentence-transformers) (2024.11.6)\n",
      "Requirement already satisfied, skipping upgrade: safetensors>=0.4.3 in c:\\users\\user\\desktop\\manish\\.venv\\lib\\site-packages (from transformers<5.0.0,>=4.41.0->sentence-transformers) (0.5.3)\n",
      "Requirement already satisfied, skipping upgrade: packaging>=20.0 in c:\\users\\user\\desktop\\manish\\.venv\\lib\\site-packages (from transformers<5.0.0,>=4.41.0->sentence-transformers) (25.0)\n",
      "Requirement already satisfied, skipping upgrade: fsspec in c:\\users\\user\\desktop\\manish\\.venv\\lib\\site-packages (from torch>=1.11.0->sentence-transformers) (2025.7.0)\n",
      "Requirement already satisfied, skipping upgrade: networkx in c:\\users\\user\\desktop\\manish\\.venv\\lib\\site-packages (from torch>=1.11.0->sentence-transformers) (3.2.1)\n",
      "Requirement already satisfied, skipping upgrade: sympy>=1.13.3 in c:\\users\\user\\desktop\\manish\\.venv\\lib\\site-packages (from torch>=1.11.0->sentence-transformers) (1.14.0)\n",
      "Requirement already satisfied, skipping upgrade: jinja2 in c:\\users\\user\\desktop\\manish\\.venv\\lib\\site-packages (from torch>=1.11.0->sentence-transformers) (3.1.6)\n",
      "Requirement already satisfied, skipping upgrade: colorama; platform_system == \"Windows\" in c:\\users\\user\\desktop\\manish\\.venv\\lib\\site-packages (from tqdm->sentence-transformers) (0.4.6)\n",
      "Requirement already satisfied, skipping upgrade: idna<4,>=2.5 in c:\\users\\user\\desktop\\manish\\.venv\\lib\\site-packages (from requests->transformers<5.0.0,>=4.41.0->sentence-transformers) (3.10)\n",
      "Requirement already satisfied, skipping upgrade: certifi>=2017.4.17 in c:\\users\\user\\desktop\\manish\\.venv\\lib\\site-packages (from requests->transformers<5.0.0,>=4.41.0->sentence-transformers) (2025.7.14)\n",
      "Requirement already satisfied, skipping upgrade: charset_normalizer<4,>=2 in c:\\users\\user\\desktop\\manish\\.venv\\lib\\site-packages (from requests->transformers<5.0.0,>=4.41.0->sentence-transformers) (3.4.2)\n",
      "Requirement already satisfied, skipping upgrade: urllib3<3,>=1.21.1 in c:\\users\\user\\desktop\\manish\\.venv\\lib\\site-packages (from requests->transformers<5.0.0,>=4.41.0->sentence-transformers) (2.5.0)\n",
      "Requirement already satisfied, skipping upgrade: mpmath<1.4,>=1.1.0 in c:\\users\\user\\desktop\\manish\\.venv\\lib\\site-packages (from sympy>=1.13.3->torch>=1.11.0->sentence-transformers) (1.3.0)\n",
      "Requirement already satisfied, skipping upgrade: MarkupSafe>=2.0 in c:\\users\\user\\desktop\\manish\\.venv\\lib\\site-packages (from jinja2->torch>=1.11.0->sentence-transformers) (3.0.2)\n"
     ]
    },
    {
     "name": "stderr",
     "output_type": "stream",
     "text": [
      "WARNING: You are using pip version 20.2.3; however, version 25.1.1 is available.\n",
      "You should consider upgrading via the 'c:\\users\\user\\desktop\\manish\\.venv\\scripts\\python.exe -m pip install --upgrade pip' command.\n"
     ]
    }
   ],
   "source": [
    "!pip install -U sentence-transformers"
   ]
  },
  {
   "cell_type": "code",
   "execution_count": 15,
   "id": "cf27f72d",
   "metadata": {},
   "outputs": [
    {
     "name": "stdout",
     "output_type": "stream",
     "text": [
      "Collecting PyPDF2\n",
      "  Using cached pypdf2-3.0.1-py3-none-any.whl (232 kB)\n",
      "Requirement already satisfied: typing_extensions>=3.10.0.0; python_version < \"3.10\" in c:\\users\\user\\desktop\\manish\\.venv\\lib\\site-packages (from PyPDF2) (4.14.1)\n",
      "Installing collected packages: PyPDF2\n",
      "Successfully installed PyPDF2-3.0.1\n",
      "Note: you may need to restart the kernel to use updated packages.\n"
     ]
    },
    {
     "name": "stderr",
     "output_type": "stream",
     "text": [
      "WARNING: You are using pip version 20.2.3; however, version 25.1.1 is available.\n",
      "You should consider upgrading via the 'c:\\Users\\USER\\Desktop\\MANISH\\.venv\\Scripts\\python.exe -m pip install --upgrade pip' command.\n"
     ]
    }
   ],
   "source": [
    "pip install PyPDF2"
   ]
  },
  {
   "cell_type": "code",
   "execution_count": 17,
   "id": "f19a4bd2",
   "metadata": {},
   "outputs": [
    {
     "name": "stdout",
     "output_type": "stream",
     "text": [
      "Collecting faiss-cpu\n",
      "  Downloading faiss_cpu-1.11.0.post1-cp39-cp39-win_amd64.whl (14.9 MB)\n",
      "Requirement already satisfied: numpy<3.0,>=1.25.0 in c:\\users\\user\\desktop\\manish\\.venv\\lib\\site-packages (from faiss-cpu) (2.0.2)\n",
      "Requirement already satisfied: packaging in c:\\users\\user\\desktop\\manish\\.venv\\lib\\site-packages (from faiss-cpu) (25.0)\n",
      "Installing collected packages: faiss-cpu\n",
      "Successfully installed faiss-cpu-1.11.0.post1\n",
      "Note: you may need to restart the kernel to use updated packages.\n"
     ]
    },
    {
     "name": "stderr",
     "output_type": "stream",
     "text": [
      "WARNING: You are using pip version 20.2.3; however, version 25.1.1 is available.\n",
      "You should consider upgrading via the 'c:\\Users\\USER\\Desktop\\MANISH\\.venv\\Scripts\\python.exe -m pip install --upgrade pip' command.\n"
     ]
    }
   ],
   "source": [
    "pip install faiss-cpu"
   ]
  },
  {
   "cell_type": "code",
   "execution_count": 2,
   "id": "e3e407ce",
   "metadata": {},
   "outputs": [
    {
     "name": "stdout",
     "output_type": "stream",
     "text": [
      "Collecting openai\n",
      "  Downloading openai-1.97.0-py3-none-any.whl (764 kB)\n",
      "Requirement already satisfied: anyio<5,>=3.5.0 in c:\\users\\user\\desktop\\manish\\.venv\\lib\\site-packages (from openai) (4.9.0)\n",
      "Collecting distro<2,>=1.7.0\n",
      "  Downloading distro-1.9.0-py3-none-any.whl (20 kB)\n",
      "Requirement already satisfied: sniffio in c:\\users\\user\\desktop\\manish\\.venv\\lib\\site-packages (from openai) (1.3.1)\n",
      "Requirement already satisfied: httpx<1,>=0.23.0 in c:\\users\\user\\desktop\\manish\\.venv\\lib\\site-packages (from openai) (0.28.1)\n",
      "Requirement already satisfied: tqdm>4 in c:\\users\\user\\desktop\\manish\\.venv\\lib\\site-packages (from openai) (4.67.1)\n",
      "Requirement already satisfied: pydantic<3,>=1.9.0 in c:\\users\\user\\desktop\\manish\\.venv\\lib\\site-packages (from openai) (2.11.7)\n",
      "Requirement already satisfied: typing-extensions<5,>=4.11 in c:\\users\\user\\desktop\\manish\\.venv\\lib\\site-packages (from openai) (4.14.1)\n",
      "Collecting jiter<1,>=0.4.0\n",
      "  Downloading jiter-0.10.0-cp39-cp39-win_amd64.whl (208 kB)\n",
      "Requirement already satisfied: idna>=2.8 in c:\\users\\user\\desktop\\manish\\.venv\\lib\\site-packages (from anyio<5,>=3.5.0->openai) (3.10)\n",
      "Requirement already satisfied: exceptiongroup>=1.0.2; python_version < \"3.11\" in c:\\users\\user\\desktop\\manish\\.venv\\lib\\site-packages (from anyio<5,>=3.5.0->openai) (1.3.0)\n",
      "Requirement already satisfied: httpcore==1.* in c:\\users\\user\\desktop\\manish\\.venv\\lib\\site-packages (from httpx<1,>=0.23.0->openai) (1.0.9)\n",
      "Requirement already satisfied: certifi in c:\\users\\user\\desktop\\manish\\.venv\\lib\\site-packages (from httpx<1,>=0.23.0->openai) (2025.7.14)\n",
      "Requirement already satisfied: colorama; platform_system == \"Windows\" in c:\\users\\user\\desktop\\manish\\.venv\\lib\\site-packages (from tqdm>4->openai) (0.4.6)\n",
      "Requirement already satisfied: pydantic-core==2.33.2 in c:\\users\\user\\desktop\\manish\\.venv\\lib\\site-packages (from pydantic<3,>=1.9.0->openai) (2.33.2)\n",
      "Requirement already satisfied: annotated-types>=0.6.0 in c:\\users\\user\\desktop\\manish\\.venv\\lib\\site-packages (from pydantic<3,>=1.9.0->openai) (0.7.0)\n",
      "Requirement already satisfied: typing-inspection>=0.4.0 in c:\\users\\user\\desktop\\manish\\.venv\\lib\\site-packages (from pydantic<3,>=1.9.0->openai) (0.4.1)\n",
      "Requirement already satisfied: h11>=0.16 in c:\\users\\user\\desktop\\manish\\.venv\\lib\\site-packages (from httpcore==1.*->httpx<1,>=0.23.0->openai) (0.16.0)\n",
      "Installing collected packages: distro, jiter, openai\n",
      "Successfully installed distro-1.9.0 jiter-0.10.0 openai-1.97.0\n"
     ]
    },
    {
     "name": "stderr",
     "output_type": "stream",
     "text": [
      "WARNING: You are using pip version 20.2.3; however, version 25.1.1 is available.\n",
      "You should consider upgrading via the 'c:\\users\\user\\desktop\\manish\\.venv\\scripts\\python.exe -m pip install --upgrade pip' command.\n"
     ]
    }
   ],
   "source": [
    "!pip install openai"
   ]
  },
  {
   "cell_type": "code",
   "execution_count": 7,
   "id": "ccb23f89",
   "metadata": {},
   "outputs": [
    {
     "name": "stdout",
     "output_type": "stream",
     "text": [
      "Collecting tiktoken\n",
      "  Downloading tiktoken-0.9.0-cp39-cp39-win_amd64.whl (894 kB)\n",
      "Requirement already satisfied: regex>=2022.1.18 in c:\\users\\user\\desktop\\manish\\.venv\\lib\\site-packages (from tiktoken) (2024.11.6)\n",
      "Requirement already satisfied: requests>=2.26.0 in c:\\users\\user\\desktop\\manish\\.venv\\lib\\site-packages (from tiktoken) (2.32.4)\n",
      "Requirement already satisfied: charset_normalizer<4,>=2 in c:\\users\\user\\desktop\\manish\\.venv\\lib\\site-packages (from requests>=2.26.0->tiktoken) (3.4.2)\n",
      "Requirement already satisfied: idna<4,>=2.5 in c:\\users\\user\\desktop\\manish\\.venv\\lib\\site-packages (from requests>=2.26.0->tiktoken) (3.10)\n",
      "Requirement already satisfied: certifi>=2017.4.17 in c:\\users\\user\\desktop\\manish\\.venv\\lib\\site-packages (from requests>=2.26.0->tiktoken) (2025.7.14)\n",
      "Requirement already satisfied: urllib3<3,>=1.21.1 in c:\\users\\user\\desktop\\manish\\.venv\\lib\\site-packages (from requests>=2.26.0->tiktoken) (2.5.0)\n",
      "Installing collected packages: tiktoken\n",
      "Successfully installed tiktoken-0.9.0\n"
     ]
    },
    {
     "name": "stderr",
     "output_type": "stream",
     "text": [
      "WARNING: You are using pip version 20.2.3; however, version 25.1.1 is available.\n",
      "You should consider upgrading via the 'c:\\users\\user\\desktop\\manish\\.venv\\scripts\\python.exe -m pip install --upgrade pip' command.\n"
     ]
    }
   ],
   "source": [
    "!pip install tiktoken\n"
   ]
  },
  {
   "cell_type": "code",
   "execution_count": 17,
   "id": "c7aa21e7",
   "metadata": {},
   "outputs": [],
   "source": [
    "import os\n",
    "from dotenv import load_dotenv\n",
    "from langchain_community.embeddings import OpenAIEmbeddings\n",
    "\n",
    "# Load .env file\n",
    "load_dotenv()\n",
    "\n",
    "# Get key\n",
    "openai_key = os.getenv(\"OPENAI_API_KEY\")\n",
    "\n",
    "# Check key is loaded\n",
    "if not openai_key:\n",
    "    raise ValueError(\"API key not found. Make sure it's in your .env file.\")\n",
    "\n",
    "# Use the key\n",
    "embeddings = OpenAIEmbeddings(openai_api_key=openai_key)\n"
   ]
  },
  {
   "cell_type": "code",
   "execution_count": 18,
   "id": "69ad1fd7",
   "metadata": {},
   "outputs": [
    {
     "name": "stdout",
     "output_type": "stream",
     "text": [
      "OpenAI API Key: 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\n"
     ]
    }
   ],
   "source": [
    "print(\"OpenAI API Key:\", openai_key)\n"
   ]
  }
 ],
 "metadata": {
  "kernelspec": {
   "display_name": ".venv",
   "language": "python",
   "name": "python3"
  },
  "language_info": {
   "codemirror_mode": {
    "name": "ipython",
    "version": 3
   },
   "file_extension": ".py",
   "mimetype": "text/x-python",
   "name": "python",
   "nbconvert_exporter": "python",
   "pygments_lexer": "ipython3",
   "version": "3.9.4"
  }
 },
 "nbformat": 4,
 "nbformat_minor": 5
}
